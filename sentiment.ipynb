{
 "cells": [
  {
   "cell_type": "code",
   "execution_count": 1,
   "metadata": {},
   "outputs": [
    {
     "name": "stdout",
     "output_type": "stream",
     "text": [
      "heloo\n"
     ]
    }
   ],
   "source": [
    "print(\"heloo\")"
   ]
  },
  {
   "cell_type": "code",
   "execution_count": 2,
   "metadata": {},
   "outputs": [],
   "source": [
    "import pandas as pd\n",
    "import numpy as np\n",
    "import random\n",
    "import matplotlib.pyplot as plt\n",
    "import seaborn as sns\n",
    "import nltk"
   ]
  },
  {
   "cell_type": "code",
   "execution_count": 3,
   "metadata": {},
   "outputs": [],
   "source": [
    "# feedback_samples = [\n",
    "#     (\"Work pressure is too high, no work-life balance.\", \"Negative\", \"High\", \"Flexible work hours\"),\n",
    "#     (\"Good learning opportunities and supportive team.\", \"Positive\", \"Low\", \"Leadership training\"),\n",
    "#     (\"Salary is not competitive compared to industry.\", \"Negative\", \"Medium\", \"Compensation review\"),\n",
    "#     (\"Company provides great growth opportunities.\", \"Positive\", \"Low\", \"Employee recognition\"),\n",
    "#     (\"Lack of career growth opportunities.\", \"Negative\", \"High\", \"Career development programs\"),\n",
    "#     (\"Managers are very supportive and encourage innovation.\", \"Positive\", \"Low\", \"Innovation awards\"),\n",
    "#     (\"Poor management decisions are affecting productivity.\", \"Negative\", \"Medium\", \"Management training\"),\n",
    "#     (\"The company values employee well-being.\", \"Positive\", \"Low\", \"Mental health support\"),\n",
    "# (\"The company provides excellent career growth opportunities with regular promotions and skill development programs.\",\"Positive\",\"Low\",\"Leadership training programs\"),\n",
    "# (\"The salary and benefits package is competitive, with annual hikes and performance bonuses that truly reward hard work.\",\"Positive\",\"Low\",\"Maintain competitive salary structure\"),\n",
    "# (\"The management is highly supportive and encourages innovation, making it a great environment for learning and professional development.\",\"Positive\",\"Low\",\"Recognition awards for innovation\"),\n",
    "# (\"A fantastic place to work! The leadership genuinely listens to employees' concerns and takes proactive steps to improve the workplace culture.\",\"Positive\",\"Low\",\"Regular feedback sessions\"),\n",
    "# (\"The workload is excessive, leading to high stress and burnout, with unrealistic deadlines that disrupt work-life balance.\",\"Negative\",\"High\",\"Implement workload management strategies\"),\n",
    "# (\"Salary hikes are minimal and not competitive with industry standards, making it difficult to stay motivated.\",\"Negative\",\"Medium\",\"Conduct annual salary benchmarking\"),\n",
    "# (\"Career progression is slow, and promotions are based more on favoritism rather than performance and skills.\",\"Negative\",\"High\",\"Introduce transparent promotion criteria\"),\n",
    "# (\"Management lacks clear vision and communication, leading to frequent project misalignment and unnecessary work pressure.\",\"Negative\",\"Medium\",\"Improve internal communication strategies\"),\n",
    "# (\"The company culture is toxic, with micromanagement and poor leadership decisions affecting productivity and employee morale.\",\"Negative\",\"High\",\"Leadership and management training programs\"),\n",
    "# ]\n",
    "\n",
    "# data = []\n",
    "# for i in range(1, 201):\n",
    "#     feedback, sentiment, attrition_risk, recommendation = random.choice(feedback_samples)\n",
    "#     data.append([i,feedback, sentiment, attrition_risk, recommendation])"
   ]
  },
  {
   "cell_type": "code",
   "execution_count": 4,
   "metadata": {},
   "outputs": [],
   "source": [
    "# df = pd.DataFrame(data, columns=[\"Employee_ID\", \"Feedback\", \"Sentiment\", \"Attrition_Risk\", \"Engagement_Recommendation\"])\n",
    "# df.to_csv(\"employee_sentiment_data.csv\", index=False)\n",
    "\n",
    "# df"
   ]
  },
  {
   "cell_type": "code",
   "execution_count": 5,
   "metadata": {},
   "outputs": [
    {
     "data": {
      "text/html": [
       "<div>\n",
       "<style scoped>\n",
       "    .dataframe tbody tr th:only-of-type {\n",
       "        vertical-align: middle;\n",
       "    }\n",
       "\n",
       "    .dataframe tbody tr th {\n",
       "        vertical-align: top;\n",
       "    }\n",
       "\n",
       "    .dataframe thead th {\n",
       "        text-align: right;\n",
       "    }\n",
       "</style>\n",
       "<table border=\"1\" class=\"dataframe\">\n",
       "  <thead>\n",
       "    <tr style=\"text-align: right;\">\n",
       "      <th></th>\n",
       "      <th>Employee_ID</th>\n",
       "      <th>Feedback</th>\n",
       "      <th>Sentiment</th>\n",
       "      <th>Attrition_Risk</th>\n",
       "      <th>Engagement_Recommendation</th>\n",
       "    </tr>\n",
       "  </thead>\n",
       "  <tbody>\n",
       "    <tr>\n",
       "      <th>0</th>\n",
       "      <td>1</td>\n",
       "      <td>The workload is excessive, leading to high str...</td>\n",
       "      <td>Negative</td>\n",
       "      <td>High</td>\n",
       "      <td>Implement workload management strategies</td>\n",
       "    </tr>\n",
       "    <tr>\n",
       "      <th>1</th>\n",
       "      <td>2</td>\n",
       "      <td>Good learning opportunities and supportive team.</td>\n",
       "      <td>Positive</td>\n",
       "      <td>Low</td>\n",
       "      <td>Leadership training</td>\n",
       "    </tr>\n",
       "    <tr>\n",
       "      <th>2</th>\n",
       "      <td>3</td>\n",
       "      <td>The management is highly supportive and encour...</td>\n",
       "      <td>Positive</td>\n",
       "      <td>Low</td>\n",
       "      <td>Recognition awards for innovation</td>\n",
       "    </tr>\n",
       "    <tr>\n",
       "      <th>3</th>\n",
       "      <td>4</td>\n",
       "      <td>Career progression is slow, and promotions are...</td>\n",
       "      <td>Negative</td>\n",
       "      <td>High</td>\n",
       "      <td>Introduce transparent promotion criteria</td>\n",
       "    </tr>\n",
       "    <tr>\n",
       "      <th>4</th>\n",
       "      <td>5</td>\n",
       "      <td>A fantastic place to work! The leadership genu...</td>\n",
       "      <td>Positive</td>\n",
       "      <td>Low</td>\n",
       "      <td>Regular feedback sessions</td>\n",
       "    </tr>\n",
       "  </tbody>\n",
       "</table>\n",
       "</div>"
      ],
      "text/plain": [
       "   Employee_ID                                           Feedback Sentiment  \\\n",
       "0            1  The workload is excessive, leading to high str...  Negative   \n",
       "1            2   Good learning opportunities and supportive team.  Positive   \n",
       "2            3  The management is highly supportive and encour...  Positive   \n",
       "3            4  Career progression is slow, and promotions are...  Negative   \n",
       "4            5  A fantastic place to work! The leadership genu...  Positive   \n",
       "\n",
       "  Attrition_Risk                 Engagement_Recommendation  \n",
       "0           High  Implement workload management strategies  \n",
       "1            Low                       Leadership training  \n",
       "2            Low         Recognition awards for innovation  \n",
       "3           High  Introduce transparent promotion criteria  \n",
       "4            Low                 Regular feedback sessions  "
      ]
     },
     "execution_count": 5,
     "metadata": {},
     "output_type": "execute_result"
    }
   ],
   "source": [
    "df= pd.read_csv(\"C:\\\\Users\\\\prash\\\\Desktop\\\\python file\\\\resume_screening\\\\employee_sentiment_data.csv\")\n",
    "df.head()"
   ]
  },
  {
   "cell_type": "code",
   "execution_count": 6,
   "metadata": {},
   "outputs": [
    {
     "data": {
      "text/plain": [
       "<Axes: xlabel='count', ylabel='Attrition_Risk'>"
      ]
     },
     "execution_count": 6,
     "metadata": {},
     "output_type": "execute_result"
    },
    {
     "data": {
      "image/png": "[encoded data removed]",
      "text/plain": [
       "<Figure size 640x480 with 1 Axes>"
      ]
     },
     "metadata": {},
     "output_type": "display_data"
    }
   ],
   "source": [
    "sns.countplot(df['Attrition_Risk'])"
   ]
  },
  {
   "cell_type": "code",
   "execution_count": 7,
   "metadata": {},
   "outputs": [],
   "source": [
    "import re\n",
    "def cleanCV(txt):\n",
    "    txt= re.sub(r'http\\S+|www\\s',' ',txt)\n",
    "    txt = re.sub(r'#\\w+', ' ', txt) \n",
    "    txt = re.sub(r'\\r\\n',' ', txt)\n",
    "    txt = re.sub(r'@\\w+', ' ', txt)  \n",
    "    txt = re.sub(r'[^a-zA-Z0-9\\s]', ' ', txt) \n",
    "    return txt"
   ]
  },
  {
   "cell_type": "code",
   "execution_count": 8,
   "metadata": {},
   "outputs": [
    {
     "data": {
      "text/html": [
       "<div>\n",
       "<style scoped>\n",
       "    .dataframe tbody tr th:only-of-type {\n",
       "        vertical-align: middle;\n",
       "    }\n",
       "\n",
       "    .dataframe tbody tr th {\n",
       "        vertical-align: top;\n",
       "    }\n",
       "\n",
       "    .dataframe thead th {\n",
       "        text-align: right;\n",
       "    }\n",
       "</style>\n",
       "<table border=\"1\" class=\"dataframe\">\n",
       "  <thead>\n",
       "    <tr style=\"text-align: right;\">\n",
       "      <th></th>\n",
       "      <th>Employee_ID</th>\n",
       "      <th>Feedback</th>\n",
       "      <th>Sentiment</th>\n",
       "      <th>Attrition_Risk</th>\n",
       "      <th>Engagement_Recommendation</th>\n",
       "    </tr>\n",
       "  </thead>\n",
       "  <tbody>\n",
       "    <tr>\n",
       "      <th>0</th>\n",
       "      <td>1</td>\n",
       "      <td>The workload is excessive  leading to high str...</td>\n",
       "      <td>Negative</td>\n",
       "      <td>High</td>\n",
       "      <td>Implement workload management strategies</td>\n",
       "    </tr>\n",
       "    <tr>\n",
       "      <th>1</th>\n",
       "      <td>2</td>\n",
       "      <td>Good learning opportunities and supportive team</td>\n",
       "      <td>Positive</td>\n",
       "      <td>Low</td>\n",
       "      <td>Leadership training</td>\n",
       "    </tr>\n",
       "    <tr>\n",
       "      <th>2</th>\n",
       "      <td>3</td>\n",
       "      <td>The management is highly supportive and encour...</td>\n",
       "      <td>Positive</td>\n",
       "      <td>Low</td>\n",
       "      <td>Recognition awards for innovation</td>\n",
       "    </tr>\n",
       "    <tr>\n",
       "      <th>3</th>\n",
       "      <td>4</td>\n",
       "      <td>Career progression is slow  and promotions are...</td>\n",
       "      <td>Negative</td>\n",
       "      <td>High</td>\n",
       "      <td>Introduce transparent promotion criteria</td>\n",
       "    </tr>\n",
       "    <tr>\n",
       "      <th>4</th>\n",
       "      <td>5</td>\n",
       "      <td>A fantastic place to work  The leadership genu...</td>\n",
       "      <td>Positive</td>\n",
       "      <td>Low</td>\n",
       "      <td>Regular feedback sessions</td>\n",
       "    </tr>\n",
       "  </tbody>\n",
       "</table>\n",
       "</div>"
      ],
      "text/plain": [
       "   Employee_ID                                           Feedback Sentiment  \\\n",
       "0            1  The workload is excessive  leading to high str...  Negative   \n",
       "1            2   Good learning opportunities and supportive team   Positive   \n",
       "2            3  The management is highly supportive and encour...  Positive   \n",
       "3            4  Career progression is slow  and promotions are...  Negative   \n",
       "4            5  A fantastic place to work  The leadership genu...  Positive   \n",
       "\n",
       "  Attrition_Risk                 Engagement_Recommendation  \n",
       "0           High  Implement workload management strategies  \n",
       "1            Low                       Leadership training  \n",
       "2            Low         Recognition awards for innovation  \n",
       "3           High  Introduce transparent promotion criteria  \n",
       "4            Low                 Regular feedback sessions  "
      ]
     },
     "execution_count": 8,
     "metadata": {},
     "output_type": "execute_result"
    }
   ],
   "source": [
    "df['Feedback']=df['Feedback'].apply(lambda x: cleanCV(x))\n",
    "df.head()"
   ]
  },
  {
   "cell_type": "code",
   "execution_count": 9,
   "metadata": {},
   "outputs": [
    {
     "data": {
      "text/plain": [
       "'The workload is excessive  leading to high stress and burnout  with unrealistic deadlines that disrupt work life balance '"
      ]
     },
     "execution_count": 9,
     "metadata": {},
     "output_type": "execute_result"
    }
   ],
   "source": [
    "df['Feedback'].values[0]"
   ]
  },
  {
   "cell_type": "code",
   "execution_count": 22,
   "metadata": {},
   "outputs": [],
   "source": [
    "df[\"Word_Count\"] = df[\"Feedback\"].apply(lambda x: len(x.split()))\n",
    "df[\"Char_Count\"] = df[\"Feedback\"].apply(lambda x: len(x))\n"
   ]
  },
  {
   "cell_type": "code",
   "execution_count": 24,
   "metadata": {},
   "outputs": [],
   "source": [
    "negative_words = [\"stress\", \"burnout\", \"toxic\", \"micromanagement\", \"poor\", \"low salary\", \"overwork\", \"underpaid\", \"layoff\", \"unfair\"]\n",
    "\n",
    "def count_negative_words(text):\n",
    "    return sum(1 for word in text.split() if word in negative_words)\n",
    "\n",
    "df[\"Negative_Word_Count\"] = df[\"Feedback\"].apply(count_negative_words)\n"
   ]
  },
  {
   "cell_type": "code",
   "execution_count": 26,
   "metadata": {},
   "outputs": [
    {
     "data": {
      "text/plain": [
       "'Poor management decisions are affecting productivity '"
      ]
     },
     "execution_count": 26,
     "metadata": {},
     "output_type": "execute_result"
    }
   ],
   "source": [
    "example = df['Feedback'][50]\n",
    "example"
   ]
  },
  {
   "cell_type": "code",
   "execution_count": 27,
   "metadata": {},
   "outputs": [],
   "source": [
    "tokens=nltk.word_tokenize(example)\n",
    "tags=nltk.pos_tag(tokens)"
   ]
  },
  {
   "cell_type": "code",
   "execution_count": 28,
   "metadata": {},
   "outputs": [],
   "source": [
    "chunks=nltk.chunk.ne_chunk(tags)"
   ]
  },
  {
   "cell_type": "markdown",
   "metadata": {},
   "source": [
    "VADER SCREENING "
   ]
  },
  {
   "cell_type": "code",
   "execution_count": 29,
   "metadata": {},
   "outputs": [
    {
     "name": "stderr",
     "output_type": "stream",
     "text": [
      "[nltk_data] Downloading package vader_lexicon to\n",
      "[nltk_data]     C:\\Users\\prash\\AppData\\Roaming\\nltk_data...\n",
      "[nltk_data]   Package vader_lexicon is already up-to-date!\n"
     ]
    },
    {
     "data": {
      "text/plain": [
       "True"
      ]
     },
     "execution_count": 29,
     "metadata": {},
     "output_type": "execute_result"
    }
   ],
   "source": [
    "from nltk.sentiment import SentimentIntensityAnalyzer\n",
    "from tqdm.notebook import tqdm\n",
    "nltk.download(\"vader_lexicon\")"
   ]
  },
  {
   "cell_type": "code",
   "execution_count": 30,
   "metadata": {},
   "outputs": [],
   "source": [
    "sia = SentimentIntensityAnalyzer()"
   ]
  },
  {
   "cell_type": "code",
   "execution_count": 31,
   "metadata": {},
   "outputs": [
    {
     "data": {
      "text/plain": [
       "{'neg': 0.0, 'neu': 0.4, 'pos': 0.6, 'compound': 0.128}"
      ]
     },
     "execution_count": 31,
     "metadata": {},
     "output_type": "execute_result"
    }
   ],
   "source": [
    "sia.polarity_scores('i am feeling')"
   ]
  },
  {
   "cell_type": "code",
   "execution_count": 32,
   "metadata": {},
   "outputs": [
    {
     "data": {
      "text/plain": [
       "{'neg': 0.383, 'neu': 0.617, 'pos': 0.0, 'compound': -0.4767}"
      ]
     },
     "execution_count": 32,
     "metadata": {},
     "output_type": "execute_result"
    }
   ],
   "source": [
    "sia.polarity_scores(example)"
   ]
  },
  {
   "cell_type": "code",
   "execution_count": null,
   "metadata": {},
   "outputs": [
    {
     "name": "stderr",
     "output_type": "stream",
     "text": [
      "100%|██████████| 200/200 [00:00<00:00, 3666.86it/s]\n"
     ]
    }
   ],
   "source": [
    "# from tqdm import tqdm\n",
    "# # run the polarity score over all dataset\n",
    "# res={}\n",
    "# for i, row in tqdm(df.iterrows(),total=len(df)):\n",
    "#     txt = row['Feedback']\n",
    "#     myid = row['Employee_ID']\n",
    "#     res[myid] = sia.polarity_scores(txt)\n",
    "#     # break"
   ]
  },
  {
   "cell_type": "code",
   "execution_count": null,
   "metadata": {},
   "outputs": [],
   "source": [
    "# vaders= pd.DataFrame(res).T\n",
    "# vaders = vaders.reset_index().rename(columns={'index':'Employee_ID'})\n",
    "# vaders = vaders.merge(df, how='left')"
   ]
  },
  {
   "cell_type": "code",
   "execution_count": 69,
   "metadata": {},
   "outputs": [],
   "source": [
    "# # vaders.head()\n",
    "# df= vaders['compound']\n"
   ]
  },
  {
   "cell_type": "code",
   "execution_count": null,
   "metadata": {},
   "outputs": [],
   "source": [
    "\n",
    "sia = SentimentIntensityAnalyzer()\n",
    "def get_sentiment_score(txt):\n",
    "    sentiment = sia.polarity_scores(txt)\n",
    "    return sentiment[\"compound\"]\n",
    "\n",
    "# Apply sentiment analysis on feedback column\n",
    "df[\"Sentiment_Score\"] = df[\"Feedback\"].apply(get_sentiment_score)\n"
   ]
  },
  {
   "cell_type": "code",
   "execution_count": 56,
   "metadata": {},
   "outputs": [],
   "source": [
    "df[\"Sentiment_Label\"] = df[\"Sentiment_Score\"].apply(lambda x: \"Positive\" if x > 0.05 else \"Negative\" if x < -0.05 else \"Neutral\")\n"
   ]
  },
  {
   "cell_type": "code",
   "execution_count": 82,
   "metadata": {},
   "outputs": [],
   "source": [
    "features = [\"Sentiment_Score\", \"Negative_Word_Count\"]\n",
    "x = df[features]\n",
    "y = df[\"Attrition_Risk\"] \n"
   ]
  },
  {
   "cell_type": "code",
   "execution_count": 83,
   "metadata": {},
   "outputs": [],
   "source": [
    "from sklearn.model_selection import train_test_split\n",
    "\n",
    "x_train, x_test, y_train, y_test = train_test_split(x, y, test_size=0.2, random_state=42)\n"
   ]
  },
  {
   "cell_type": "code",
   "execution_count": 90,
   "metadata": {},
   "outputs": [
    {
     "name": "stdout",
     "output_type": "stream",
     "text": [
      "Accuracy: 0.875\n",
      "              precision    recall  f1-score   support\n",
      "\n",
      "        High       1.00      0.44      0.62         9\n",
      "         Low       0.86      1.00      0.92        24\n",
      "      Medium       0.88      1.00      0.93         7\n",
      "\n",
      "    accuracy                           0.88        40\n",
      "   macro avg       0.91      0.81      0.82        40\n",
      "weighted avg       0.89      0.88      0.86        40\n",
      "\n"
     ]
    }
   ],
   "source": [
    "from sklearn.linear_model import LogisticRegression\n",
    "from sklearn.metrics import accuracy_score, classification_report\n",
    "\n",
    "# Train model\n",
    "model = LogisticRegression()\n",
    "model.fit(x_train, y_train)\n",
    "\n",
    "# Predict on test set\n",
    "y_pred = model.predict(x_test)\n",
    "\n",
    "# Accuracy & Report\n",
    "print(\"Accuracy:\", accuracy_score(y_test, y_pred))\n",
    "print(classification_report(y_test, y_pred))\n"
   ]
  },
  {
   "cell_type": "code",
   "execution_count": 91,
   "metadata": {},
   "outputs": [],
   "source": [
    "import pickle\n",
    "\n",
    "# Save model\n",
    "with open(\"attrition_model.pkl\", \"wb\") as f:\n",
    "    pickle.dump(model, f)\n"
   ]
  },
  {
   "cell_type": "code",
   "execution_count": null,
   "metadata": {},
   "outputs": [],
   "source": []
  }
 ],
 "metadata": {
  "kernelspec": {
   "display_name": "Python 3",
   "language": "python",
   "name": "python3"
  },
  "language_info": {
   "codemirror_mode": {
    "name": "ipython",
    "version": 3
   },
   "file_extension": ".py",
   "mimetype": "text/x-python",
   "name": "python",
   "nbconvert_exporter": "python",
   "pygments_lexer": "ipython3",
   "version": "3.12.0"
  }
 },
 "nbformat": 4,
 "nbformat_minor": 2
}
